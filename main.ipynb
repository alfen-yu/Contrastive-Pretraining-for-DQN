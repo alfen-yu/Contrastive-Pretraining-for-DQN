{
  "cells": [
    {
      "cell_type": "code",
      "execution_count": 1,
      "metadata": {
        "colab": {
          "base_uri": "https://localhost:8080/"
        },
        "id": "YNmJ6KYHCb4j",
        "outputId": "cbf9d618-f628-43fc-d0c9-cd69e91040b7"
      },
      "outputs": [
        {
          "name": "stdout",
          "output_type": "stream",
          "text": [
            "Requirement already satisfied: gymnasium in /usr/local/lib/python3.11/dist-packages (1.1.1)\n",
            "Requirement already satisfied: numpy>=1.21.0 in /usr/local/lib/python3.11/dist-packages (from gymnasium) (2.0.2)\n",
            "Requirement already satisfied: cloudpickle>=1.2.0 in /usr/local/lib/python3.11/dist-packages (from gymnasium) (3.1.1)\n",
            "Requirement already satisfied: typing-extensions>=4.3.0 in /usr/local/lib/python3.11/dist-packages (from gymnasium) (4.13.2)\n",
            "Requirement already satisfied: farama-notifications>=0.0.1 in /usr/local/lib/python3.11/dist-packages (from gymnasium) (0.0.4)\n",
            "Requirement already satisfied: ale-py in /usr/local/lib/python3.11/dist-packages (0.10.2)\n",
            "Requirement already satisfied: numpy>1.20 in /usr/local/lib/python3.11/dist-packages (from ale-py) (2.0.2)\n"
          ]
        }
      ],
      "source": [
        "!pip install gymnasium\n",
        "!pip install ale-py"
      ]
    },
    {
      "cell_type": "code",
      "execution_count": 2,
      "metadata": {
        "id": "VB_J6cllEJUP"
      },
      "outputs": [],
      "source": [
        "import gymnasium as gym\n",
        "import ale_py"
      ]
    },
    {
      "cell_type": "code",
      "execution_count": 5,
      "metadata": {
        "colab": {
          "base_uri": "https://localhost:8080/"
        },
        "id": "Lzh-ICAeKeaw",
        "outputId": "0e4ec30f-1d5b-457b-9840-f5d62ca57089"
      },
      "outputs": [
        {
          "name": "stdout",
          "output_type": "stream",
          "text": [
            "Reading package lists... Done\n",
            "Building dependency tree... Done\n",
            "Reading state information... Done\n",
            "swig is already the newest version (4.0.2-1ubuntu1).\n",
            "0 upgraded, 0 newly installed, 0 to remove and 34 not upgraded.\n",
            "Requirement already satisfied: gymnasium[box2d] in /usr/local/lib/python3.11/dist-packages (1.1.1)\n",
            "Requirement already satisfied: numpy>=1.21.0 in /usr/local/lib/python3.11/dist-packages (from gymnasium[box2d]) (2.0.2)\n",
            "Requirement already satisfied: cloudpickle>=1.2.0 in /usr/local/lib/python3.11/dist-packages (from gymnasium[box2d]) (3.1.1)\n",
            "Requirement already satisfied: typing-extensions>=4.3.0 in /usr/local/lib/python3.11/dist-packages (from gymnasium[box2d]) (4.13.2)\n",
            "Requirement already satisfied: farama-notifications>=0.0.1 in /usr/local/lib/python3.11/dist-packages (from gymnasium[box2d]) (0.0.4)\n",
            "Requirement already satisfied: box2d-py==2.3.5 in /usr/local/lib/python3.11/dist-packages (from gymnasium[box2d]) (2.3.5)\n",
            "Requirement already satisfied: pygame>=2.1.3 in /usr/local/lib/python3.11/dist-packages (from gymnasium[box2d]) (2.6.1)\n",
            "Requirement already satisfied: swig==4.* in /usr/local/lib/python3.11/dist-packages (from gymnasium[box2d]) (4.3.1)\n"
          ]
        }
      ],
      "source": [
        "!sudo apt-get install swig\n",
        "!pip install gymnasium[box2d]"
      ]
    },
    {
      "cell_type": "code",
      "execution_count": 6,
      "metadata": {
        "id": "Wa23nDuNMy9O"
      },
      "outputs": [],
      "source": [
        "import gymnasium as gym"
      ]
    },
    {
      "cell_type": "code",
      "execution_count": 11,
      "metadata": {
        "colab": {
          "base_uri": "https://localhost:8080/",
          "height": 367
        },
        "id": "PgoUi6EAEMyi",
        "outputId": "a13c7679-4e37-4bc9-e1dd-b5b20b3f17de"
      },
      "outputs": [
        {
          "data": {
            "image/png": "[encoded data removed]",
            "text/plain": [
              "<Figure size 640x480 with 1 Axes>"
            ]
          },
          "metadata": {},
          "output_type": "display_data"
        }
      ],
      "source": [
        "# SETUP USING LUNAR LANDER\n",
        "\n",
        "import gymnasium as gym\n",
        "import matplotlib.pyplot as plt\n",
        "from IPython.display import display, clear_output\n",
        "\n",
        "env = gym.make(\"LunarLander-v3\", render_mode=\"rgb_array\")\n",
        "observation, info = env.reset()\n",
        "\n",
        "frames = []\n",
        "\n",
        "episode_over = False\n",
        "while not episode_over:\n",
        "    action = env.action_space.sample()\n",
        "    observation, reward, terminated, truncated, info = env.step(action)\n",
        "\n",
        "    # capture frame\n",
        "    frame = env.render()\n",
        "    frames.append(frame)\n",
        "\n",
        "    episode_over = terminated or truncated\n",
        "\n",
        "env.close()\n",
        "\n",
        "# Now display the frames\n",
        "for frame in frames:\n",
        "    plt.imshow(frame)\n",
        "    plt.axis('off')\n",
        "    display(plt.gcf())\n",
        "    clear_output(wait=True)\n"
      ]
    },
    {
      "cell_type": "markdown",
      "metadata": {
        "id": "QGMGm5t1QO7b"
      },
      "source": [
        "\n"
      ]
    },
    {
      "cell_type": "markdown",
      "metadata": {
        "id": "8kxiC0gmQTwg"
      },
      "source": [
        "### Actual implementation of the project checkpoint starts from here\n",
        "# Atari Environment Setup using ALE-Py\n",
        "**Project Milestone:** Random Agent with ALE-Py  \n",
        "**Name:** Vezhish Ali, Yousuf Uyghur  \n",
        "\n",
        "In this notebook, we have set up an Atari environment using ALE-Py and Gymnasium.\n",
        "We run a random agent for one episode and visualize the gameplay.\n",
        "\n",
        "A challenge although not significant was running ale-py instead of our normal approach when using gymnasium, ale-py is a wrapper for atari games that provides the functionality of running atari games in gymnasium. The documentation was very well written on the gymnasium website, it helped a lot in the implementation."
      ]
    },
    {
      "cell_type": "markdown",
      "metadata": {
        "id": "8r5x2_Gzfh5r"
      },
      "source": [
        "## Install necessary packages"
      ]
    },
    {
      "cell_type": "code",
      "execution_count": 1,
      "metadata": {
        "colab": {
          "base_uri": "https://localhost:8080/"
        },
        "id": "Sp985-znOs4T",
        "outputId": "07985e1e-1c33-42b4-ef85-3be4d4caf3d1"
      },
      "outputs": [
        {
          "name": "stdout",
          "output_type": "stream",
          "text": [
            "Requirement already satisfied: ale-py in /usr/local/lib/python3.11/dist-packages (0.10.2)\n",
            "Requirement already satisfied: gymnasium in /usr/local/lib/python3.11/dist-packages (1.1.1)\n",
            "Requirement already satisfied: pygame in /usr/local/lib/python3.11/dist-packages (2.6.1)\n",
            "Requirement already satisfied: moviepy in /usr/local/lib/python3.11/dist-packages (1.0.3)\n",
            "Requirement already satisfied: numpy>1.20 in /usr/local/lib/python3.11/dist-packages (from ale-py) (2.0.2)\n",
            "Requirement already satisfied: cloudpickle>=1.2.0 in /usr/local/lib/python3.11/dist-packages (from gymnasium) (3.1.1)\n",
            "Requirement already satisfied: typing-extensions>=4.3.0 in /usr/local/lib/python3.11/dist-packages (from gymnasium) (4.13.2)\n",
            "Requirement already satisfied: farama-notifications>=0.0.1 in /usr/local/lib/python3.11/dist-packages (from gymnasium) (0.0.4)\n",
            "Requirement already satisfied: decorator<5.0,>=4.0.2 in /usr/local/lib/python3.11/dist-packages (from moviepy) (4.4.2)\n",
            "Requirement already satisfied: tqdm<5.0,>=4.11.2 in /usr/local/lib/python3.11/dist-packages (from moviepy) (4.67.1)\n",
            "Requirement already satisfied: requests<3.0,>=2.8.1 in /usr/local/lib/python3.11/dist-packages (from moviepy) (2.32.3)\n",
            "Requirement already satisfied: proglog<=1.0.0 in /usr/local/lib/python3.11/dist-packages (from moviepy) (0.1.11)\n",
            "Requirement already satisfied: imageio<3.0,>=2.5 in /usr/local/lib/python3.11/dist-packages (from moviepy) (2.37.0)\n",
            "Requirement already satisfied: imageio-ffmpeg>=0.2.0 in /usr/local/lib/python3.11/dist-packages (from moviepy) (0.6.0)\n",
            "Requirement already satisfied: pillow>=8.3.2 in /usr/local/lib/python3.11/dist-packages (from imageio<3.0,>=2.5->moviepy) (11.1.0)\n",
            "Requirement already satisfied: charset-normalizer<4,>=2 in /usr/local/lib/python3.11/dist-packages (from requests<3.0,>=2.8.1->moviepy) (3.4.1)\n",
            "Requirement already satisfied: idna<4,>=2.5 in /usr/local/lib/python3.11/dist-packages (from requests<3.0,>=2.8.1->moviepy) (3.10)\n",
            "Requirement already satisfied: urllib3<3,>=1.21.1 in /usr/local/lib/python3.11/dist-packages (from requests<3.0,>=2.8.1->moviepy) (2.3.0)\n",
            "Requirement already satisfied: certifi>=2017.4.17 in /usr/local/lib/python3.11/dist-packages (from requests<3.0,>=2.8.1->moviepy) (2025.1.31)\n"
          ]
        }
      ],
      "source": [
        "!pip install ale-py gymnasium pygame moviepy\n"
      ]
    },
    {
      "cell_type": "code",
      "execution_count": 5,
      "metadata": {
        "colab": {
          "base_uri": "https://localhost:8080/"
        },
        "id": "IP5s-VqzOxQt",
        "outputId": "f1a386bd-1b90-4e45-b4ef-d47f1d84b544"
      },
      "outputs": [
        {
          "name": "stdout",
          "output_type": "stream",
          "text": [
            "libraries imported!\n"
          ]
        }
      ],
      "source": [
        "# importing necessary libraries\n",
        "\n",
        "import gymnasium as gym\n",
        "from ale_py import ALEInterface\n",
        "import numpy as np\n",
        "import matplotlib.pyplot as plt\n",
        "from IPython.display import display, clear_output\n",
        "import moviepy.editor as mpy\n",
        "print(\"libraries imported!\")"
      ]
    },
    {
      "cell_type": "markdown",
      "metadata": {
        "id": "433Fs2lJfvtV"
      },
      "source": [
        "## Create the Atari Environment"
      ]
    },
    {
      "cell_type": "code",
      "execution_count": 8,
      "metadata": {
        "colab": {
          "base_uri": "https://localhost:8080/"
        },
        "id": "W5gJ1kRWO2b2",
        "outputId": "f63d9e16-8c55-46f4-c2ef-62173f1b26c8"
      },
      "outputs": [
        {
          "name": "stdout",
          "output_type": "stream",
          "text": [
            "created instantiation of Pong\n"
          ]
        }
      ],
      "source": [
        "# initializing ALE Atari Environment\n",
        "env = gym.make(\"ALE/Pong-v5\", render_mode=\"rgb_array\")\n",
        "\n",
        "observation, info = env.reset(seed=42)\n",
        "\n",
        "print(\"created instantiation of Pong\")\n"
      ]
    },
    {
      "cell_type": "markdown",
      "metadata": {
        "id": "Ts6643FZf6xa"
      },
      "source": [
        "## Run Random Agent and Collect Frames"
      ]
    },
    {
      "cell_type": "code",
      "execution_count": 9,
      "metadata": {
        "colab": {
          "base_uri": "https://localhost:8080/"
        },
        "id": "F7PEXsPlPQkT",
        "outputId": "8208dcfa-689e-4117-9e7f-b3ad61a99f27"
      },
      "outputs": [
        {
          "name": "stdout",
          "output_type": "stream",
          "text": [
            "agent ran randomly on the game\n"
          ]
        }
      ],
      "source": [
        "# frames = []\n",
        "\n",
        "# episode_over = False\n",
        "# while not episode_over:\n",
        "#     action = env.action_space.sample()  # choose a random action\n",
        "#     observation, reward, terminated, truncated, info = env.step(action)\n",
        "\n",
        "#     frame = env.render()  # capture the frames\n",
        "#     frames.append(frame)\n",
        "\n",
        "#     episode_over = terminated or truncated\n",
        "\n",
        "# env.close()\n",
        "\n",
        "# this code runs for fixed amount of time\n",
        "frames = []\n",
        "max_frames = 300  # 300 frames at 60 FPS\n",
        "\n",
        "for frame_idx in range(max_frames):\n",
        "    action = env.action_space.sample()  # Random action\n",
        "    observation, reward, terminated, truncated, info = env.step(action)\n",
        "\n",
        "    frame = env.render()\n",
        "    frames.append(frame)\n",
        "\n",
        "    if terminated or truncated:\n",
        "        observation, info = env.reset()\n",
        "\n",
        "env.close()\n",
        "\n",
        "print(\"agent ran randomly on the game\")\n"
      ]
    },
    {
      "cell_type": "markdown",
      "metadata": {
        "id": "oHLB9wokf9ss"
      },
      "source": [
        "## Animate the frames"
      ]
    },
    {
      "cell_type": "code",
      "execution_count": 10,
      "metadata": {
        "colab": {
          "base_uri": "https://localhost:8080/",
          "height": 780
        },
        "id": "n8hORGuCPXPd",
        "outputId": "4d44e03d-967b-4ae6-c9d0-df4c7dfab38e"
      },
      "outputs": [
        {
          "ename": "KeyboardInterrupt",
          "evalue": "",
          "output_type": "error",
          "traceback": [
            "\u001b[0;31m---------------------------------------------------------------------------\u001b[0m",
            "\u001b[0;31mKeyboardInterrupt\u001b[0m                         Traceback (most recent call last)",
            "\u001b[0;32m<ipython-input-10-71db5ff4ff41>\u001b[0m in \u001b[0;36m<cell line: 0>\u001b[0;34m()\u001b[0m\n\u001b[1;32m      2\u001b[0m     \u001b[0mplt\u001b[0m\u001b[0;34m.\u001b[0m\u001b[0mimshow\u001b[0m\u001b[0;34m(\u001b[0m\u001b[0mframe\u001b[0m\u001b[0;34m)\u001b[0m\u001b[0;34m\u001b[0m\u001b[0;34m\u001b[0m\u001b[0m\n\u001b[1;32m      3\u001b[0m     \u001b[0mplt\u001b[0m\u001b[0;34m.\u001b[0m\u001b[0maxis\u001b[0m\u001b[0;34m(\u001b[0m\u001b[0;34m'off'\u001b[0m\u001b[0;34m)\u001b[0m\u001b[0;34m\u001b[0m\u001b[0;34m\u001b[0m\u001b[0m\n\u001b[0;32m----> 4\u001b[0;31m     \u001b[0mdisplay\u001b[0m\u001b[0;34m(\u001b[0m\u001b[0mplt\u001b[0m\u001b[0;34m.\u001b[0m\u001b[0mgcf\u001b[0m\u001b[0;34m(\u001b[0m\u001b[0;34m)\u001b[0m\u001b[0;34m)\u001b[0m\u001b[0;34m\u001b[0m\u001b[0;34m\u001b[0m\u001b[0m\n\u001b[0m\u001b[1;32m      5\u001b[0m     \u001b[0mclear_output\u001b[0m\u001b[0;34m(\u001b[0m\u001b[0mwait\u001b[0m\u001b[0;34m=\u001b[0m\u001b[0;32mTrue\u001b[0m\u001b[0;34m)\u001b[0m\u001b[0;34m\u001b[0m\u001b[0;34m\u001b[0m\u001b[0m\n\u001b[1;32m      6\u001b[0m \u001b[0;34m\u001b[0m\u001b[0m\n",
            "\u001b[0;32m/usr/local/lib/python3.11/dist-packages/IPython/core/display.py\u001b[0m in \u001b[0;36mdisplay\u001b[0;34m(include, exclude, metadata, transient, display_id, *objs, **kwargs)\u001b[0m\n\u001b[1;32m    318\u001b[0m             \u001b[0mpublish_display_data\u001b[0m\u001b[0;34m(\u001b[0m\u001b[0mdata\u001b[0m\u001b[0;34m=\u001b[0m\u001b[0mobj\u001b[0m\u001b[0;34m,\u001b[0m \u001b[0mmetadata\u001b[0m\u001b[0;34m=\u001b[0m\u001b[0mmetadata\u001b[0m\u001b[0;34m,\u001b[0m \u001b[0;34m**\u001b[0m\u001b[0mkwargs\u001b[0m\u001b[0;34m)\u001b[0m\u001b[0;34m\u001b[0m\u001b[0;34m\u001b[0m\u001b[0m\n\u001b[1;32m    319\u001b[0m         \u001b[0;32melse\u001b[0m\u001b[0;34m:\u001b[0m\u001b[0;34m\u001b[0m\u001b[0;34m\u001b[0m\u001b[0m\n\u001b[0;32m--> 320\u001b[0;31m             \u001b[0mformat_dict\u001b[0m\u001b[0;34m,\u001b[0m \u001b[0mmd_dict\u001b[0m \u001b[0;34m=\u001b[0m \u001b[0mformat\u001b[0m\u001b[0;34m(\u001b[0m\u001b[0mobj\u001b[0m\u001b[0;34m,\u001b[0m \u001b[0minclude\u001b[0m\u001b[0;34m=\u001b[0m\u001b[0minclude\u001b[0m\u001b[0;34m,\u001b[0m \u001b[0mexclude\u001b[0m\u001b[0;34m=\u001b[0m\u001b[0mexclude\u001b[0m\u001b[0;34m)\u001b[0m\u001b[0;34m\u001b[0m\u001b[0;34m\u001b[0m\u001b[0m\n\u001b[0m\u001b[1;32m    321\u001b[0m             \u001b[0;32mif\u001b[0m \u001b[0;32mnot\u001b[0m \u001b[0mformat_dict\u001b[0m\u001b[0;34m:\u001b[0m\u001b[0;34m\u001b[0m\u001b[0;34m\u001b[0m\u001b[0m\n\u001b[1;32m    322\u001b[0m                 \u001b[0;31m# nothing to display (e.g. _ipython_display_ took over)\u001b[0m\u001b[0;34m\u001b[0m\u001b[0;34m\u001b[0m\u001b[0m\n",
            "\u001b[0;32m/usr/local/lib/python3.11/dist-packages/IPython/core/formatters.py\u001b[0m in \u001b[0;36mformat\u001b[0;34m(self, obj, include, exclude)\u001b[0m\n\u001b[1;32m    178\u001b[0m             \u001b[0mmd\u001b[0m \u001b[0;34m=\u001b[0m \u001b[0;32mNone\u001b[0m\u001b[0;34m\u001b[0m\u001b[0;34m\u001b[0m\u001b[0m\n\u001b[1;32m    179\u001b[0m             \u001b[0;32mtry\u001b[0m\u001b[0;34m:\u001b[0m\u001b[0;34m\u001b[0m\u001b[0;34m\u001b[0m\u001b[0m\n\u001b[0;32m--> 180\u001b[0;31m                 \u001b[0mdata\u001b[0m \u001b[0;34m=\u001b[0m \u001b[0mformatter\u001b[0m\u001b[0;34m(\u001b[0m\u001b[0mobj\u001b[0m\u001b[0;34m)\u001b[0m\u001b[0;34m\u001b[0m\u001b[0;34m\u001b[0m\u001b[0m\n\u001b[0m\u001b[1;32m    181\u001b[0m             \u001b[0;32mexcept\u001b[0m\u001b[0;34m:\u001b[0m\u001b[0;34m\u001b[0m\u001b[0;34m\u001b[0m\u001b[0m\n\u001b[1;32m    182\u001b[0m                 \u001b[0;31m# FIXME: log the exception\u001b[0m\u001b[0;34m\u001b[0m\u001b[0;34m\u001b[0m\u001b[0m\n",
            "\u001b[0;32m<decorator-gen-2>\u001b[0m in \u001b[0;36m__call__\u001b[0;34m(self, obj)\u001b[0m\n",
            "\u001b[0;32m/usr/local/lib/python3.11/dist-packages/IPython/core/formatters.py\u001b[0m in \u001b[0;36mcatch_format_error\u001b[0;34m(method, self, *args, **kwargs)\u001b[0m\n\u001b[1;32m    222\u001b[0m     \u001b[0;34m\"\"\"show traceback on failed format call\"\"\"\u001b[0m\u001b[0;34m\u001b[0m\u001b[0;34m\u001b[0m\u001b[0m\n\u001b[1;32m    223\u001b[0m     \u001b[0;32mtry\u001b[0m\u001b[0;34m:\u001b[0m\u001b[0;34m\u001b[0m\u001b[0;34m\u001b[0m\u001b[0m\n\u001b[0;32m--> 224\u001b[0;31m         \u001b[0mr\u001b[0m \u001b[0;34m=\u001b[0m \u001b[0mmethod\u001b[0m\u001b[0;34m(\u001b[0m\u001b[0mself\u001b[0m\u001b[0;34m,\u001b[0m \u001b[0;34m*\u001b[0m\u001b[0margs\u001b[0m\u001b[0;34m,\u001b[0m \u001b[0;34m**\u001b[0m\u001b[0mkwargs\u001b[0m\u001b[0;34m)\u001b[0m\u001b[0;34m\u001b[0m\u001b[0;34m\u001b[0m\u001b[0m\n\u001b[0m\u001b[1;32m    225\u001b[0m     \u001b[0;32mexcept\u001b[0m \u001b[0mNotImplementedError\u001b[0m\u001b[0;34m:\u001b[0m\u001b[0;34m\u001b[0m\u001b[0;34m\u001b[0m\u001b[0m\n\u001b[1;32m    226\u001b[0m         \u001b[0;31m# don't warn on NotImplementedErrors\u001b[0m\u001b[0;34m\u001b[0m\u001b[0;34m\u001b[0m\u001b[0m\n",
            "\u001b[0;32m/usr/local/lib/python3.11/dist-packages/IPython/core/formatters.py\u001b[0m in \u001b[0;36m__call__\u001b[0;34m(self, obj)\u001b[0m\n\u001b[1;32m    339\u001b[0m                 \u001b[0;32mpass\u001b[0m\u001b[0;34m\u001b[0m\u001b[0;34m\u001b[0m\u001b[0m\n\u001b[1;32m    340\u001b[0m             \u001b[0;32melse\u001b[0m\u001b[0;34m:\u001b[0m\u001b[0;34m\u001b[0m\u001b[0;34m\u001b[0m\u001b[0m\n\u001b[0;32m--> 341\u001b[0;31m                 \u001b[0;32mreturn\u001b[0m \u001b[0mprinter\u001b[0m\u001b[0;34m(\u001b[0m\u001b[0mobj\u001b[0m\u001b[0;34m)\u001b[0m\u001b[0;34m\u001b[0m\u001b[0;34m\u001b[0m\u001b[0m\n\u001b[0m\u001b[1;32m    342\u001b[0m             \u001b[0;31m# Finally look for special method names\u001b[0m\u001b[0;34m\u001b[0m\u001b[0;34m\u001b[0m\u001b[0m\n\u001b[1;32m    343\u001b[0m             \u001b[0mmethod\u001b[0m \u001b[0;34m=\u001b[0m \u001b[0mget_real_method\u001b[0m\u001b[0;34m(\u001b[0m\u001b[0mobj\u001b[0m\u001b[0;34m,\u001b[0m \u001b[0mself\u001b[0m\u001b[0;34m.\u001b[0m\u001b[0mprint_method\u001b[0m\u001b[0;34m)\u001b[0m\u001b[0;34m\u001b[0m\u001b[0;34m\u001b[0m\u001b[0m\n",
            "\u001b[0;32m/usr/local/lib/python3.11/dist-packages/IPython/core/pylabtools.py\u001b[0m in \u001b[0;36mprint_figure\u001b[0;34m(fig, fmt, bbox_inches, base64, **kwargs)\u001b[0m\n\u001b[1;32m    149\u001b[0m         \u001b[0mFigureCanvasBase\u001b[0m\u001b[0;34m(\u001b[0m\u001b[0mfig\u001b[0m\u001b[0;34m)\u001b[0m\u001b[0;34m\u001b[0m\u001b[0;34m\u001b[0m\u001b[0m\n\u001b[1;32m    150\u001b[0m \u001b[0;34m\u001b[0m\u001b[0m\n\u001b[0;32m--> 151\u001b[0;31m     \u001b[0mfig\u001b[0m\u001b[0;34m.\u001b[0m\u001b[0mcanvas\u001b[0m\u001b[0;34m.\u001b[0m\u001b[0mprint_figure\u001b[0m\u001b[0;34m(\u001b[0m\u001b[0mbytes_io\u001b[0m\u001b[0;34m,\u001b[0m \u001b[0;34m**\u001b[0m\u001b[0mkw\u001b[0m\u001b[0;34m)\u001b[0m\u001b[0;34m\u001b[0m\u001b[0;34m\u001b[0m\u001b[0m\n\u001b[0m\u001b[1;32m    152\u001b[0m     \u001b[0mdata\u001b[0m \u001b[0;34m=\u001b[0m \u001b[0mbytes_io\u001b[0m\u001b[0;34m.\u001b[0m\u001b[0mgetvalue\u001b[0m\u001b[0;34m(\u001b[0m\u001b[0;34m)\u001b[0m\u001b[0;34m\u001b[0m\u001b[0;34m\u001b[0m\u001b[0m\n\u001b[1;32m    153\u001b[0m     \u001b[0;32mif\u001b[0m \u001b[0mfmt\u001b[0m \u001b[0;34m==\u001b[0m \u001b[0;34m'svg'\u001b[0m\u001b[0;34m:\u001b[0m\u001b[0;34m\u001b[0m\u001b[0;34m\u001b[0m\u001b[0m\n",
            "\u001b[0;32m/usr/local/lib/python3.11/dist-packages/matplotlib/backend_bases.py\u001b[0m in \u001b[0;36mprint_figure\u001b[0;34m(self, filename, dpi, facecolor, edgecolor, orientation, format, bbox_inches, pad_inches, bbox_extra_artists, backend, **kwargs)\u001b[0m\n\u001b[1;32m   2153\u001b[0m                 \u001b[0;31m# so that we can inject the orientation\u001b[0m\u001b[0;34m\u001b[0m\u001b[0;34m\u001b[0m\u001b[0m\n\u001b[1;32m   2154\u001b[0m                 \u001b[0;32mwith\u001b[0m \u001b[0mgetattr\u001b[0m\u001b[0;34m(\u001b[0m\u001b[0mrenderer\u001b[0m\u001b[0;34m,\u001b[0m \u001b[0;34m\"_draw_disabled\"\u001b[0m\u001b[0;34m,\u001b[0m \u001b[0mnullcontext\u001b[0m\u001b[0;34m)\u001b[0m\u001b[0;34m(\u001b[0m\u001b[0;34m)\u001b[0m\u001b[0;34m:\u001b[0m\u001b[0;34m\u001b[0m\u001b[0;34m\u001b[0m\u001b[0m\n\u001b[0;32m-> 2155\u001b[0;31m                     \u001b[0mself\u001b[0m\u001b[0;34m.\u001b[0m\u001b[0mfigure\u001b[0m\u001b[0;34m.\u001b[0m\u001b[0mdraw\u001b[0m\u001b[0;34m(\u001b[0m\u001b[0mrenderer\u001b[0m\u001b[0;34m)\u001b[0m\u001b[0;34m\u001b[0m\u001b[0;34m\u001b[0m\u001b[0m\n\u001b[0m\u001b[1;32m   2156\u001b[0m             \u001b[0;32mif\u001b[0m \u001b[0mbbox_inches\u001b[0m\u001b[0;34m:\u001b[0m\u001b[0;34m\u001b[0m\u001b[0;34m\u001b[0m\u001b[0m\n\u001b[1;32m   2157\u001b[0m                 \u001b[0;32mif\u001b[0m \u001b[0mbbox_inches\u001b[0m \u001b[0;34m==\u001b[0m \u001b[0;34m\"tight\"\u001b[0m\u001b[0;34m:\u001b[0m\u001b[0;34m\u001b[0m\u001b[0;34m\u001b[0m\u001b[0m\n",
            "\u001b[0;32m/usr/local/lib/python3.11/dist-packages/matplotlib/artist.py\u001b[0m in \u001b[0;36mdraw_wrapper\u001b[0;34m(artist, renderer, *args, **kwargs)\u001b[0m\n\u001b[1;32m     92\u001b[0m     \u001b[0;34m@\u001b[0m\u001b[0mwraps\u001b[0m\u001b[0;34m(\u001b[0m\u001b[0mdraw\u001b[0m\u001b[0;34m)\u001b[0m\u001b[0;34m\u001b[0m\u001b[0;34m\u001b[0m\u001b[0m\n\u001b[1;32m     93\u001b[0m     \u001b[0;32mdef\u001b[0m \u001b[0mdraw_wrapper\u001b[0m\u001b[0;34m(\u001b[0m\u001b[0martist\u001b[0m\u001b[0;34m,\u001b[0m \u001b[0mrenderer\u001b[0m\u001b[0;34m,\u001b[0m \u001b[0;34m*\u001b[0m\u001b[0margs\u001b[0m\u001b[0;34m,\u001b[0m \u001b[0;34m**\u001b[0m\u001b[0mkwargs\u001b[0m\u001b[0;34m)\u001b[0m\u001b[0;34m:\u001b[0m\u001b[0;34m\u001b[0m\u001b[0;34m\u001b[0m\u001b[0m\n\u001b[0;32m---> 94\u001b[0;31m         \u001b[0mresult\u001b[0m \u001b[0;34m=\u001b[0m \u001b[0mdraw\u001b[0m\u001b[0;34m(\u001b[0m\u001b[0martist\u001b[0m\u001b[0;34m,\u001b[0m \u001b[0mrenderer\u001b[0m\u001b[0;34m,\u001b[0m \u001b[0;34m*\u001b[0m\u001b[0margs\u001b[0m\u001b[0;34m,\u001b[0m \u001b[0;34m**\u001b[0m\u001b[0mkwargs\u001b[0m\u001b[0;34m)\u001b[0m\u001b[0;34m\u001b[0m\u001b[0;34m\u001b[0m\u001b[0m\n\u001b[0m\u001b[1;32m     95\u001b[0m         \u001b[0;32mif\u001b[0m \u001b[0mrenderer\u001b[0m\u001b[0;34m.\u001b[0m\u001b[0m_rasterizing\u001b[0m\u001b[0;34m:\u001b[0m\u001b[0;34m\u001b[0m\u001b[0;34m\u001b[0m\u001b[0m\n\u001b[1;32m     96\u001b[0m             \u001b[0mrenderer\u001b[0m\u001b[0;34m.\u001b[0m\u001b[0mstop_rasterizing\u001b[0m\u001b[0;34m(\u001b[0m\u001b[0;34m)\u001b[0m\u001b[0;34m\u001b[0m\u001b[0;34m\u001b[0m\u001b[0m\n",
            "\u001b[0;32m/usr/local/lib/python3.11/dist-packages/matplotlib/artist.py\u001b[0m in \u001b[0;36mdraw_wrapper\u001b[0;34m(artist, renderer)\u001b[0m\n\u001b[1;32m     69\u001b[0m                 \u001b[0mrenderer\u001b[0m\u001b[0;34m.\u001b[0m\u001b[0mstart_filter\u001b[0m\u001b[0;34m(\u001b[0m\u001b[0;34m)\u001b[0m\u001b[0;34m\u001b[0m\u001b[0;34m\u001b[0m\u001b[0m\n\u001b[1;32m     70\u001b[0m \u001b[0;34m\u001b[0m\u001b[0m\n\u001b[0;32m---> 71\u001b[0;31m             \u001b[0;32mreturn\u001b[0m \u001b[0mdraw\u001b[0m\u001b[0;34m(\u001b[0m\u001b[0martist\u001b[0m\u001b[0;34m,\u001b[0m \u001b[0mrenderer\u001b[0m\u001b[0;34m)\u001b[0m\u001b[0;34m\u001b[0m\u001b[0;34m\u001b[0m\u001b[0m\n\u001b[0m\u001b[1;32m     72\u001b[0m         \u001b[0;32mfinally\u001b[0m\u001b[0;34m:\u001b[0m\u001b[0;34m\u001b[0m\u001b[0;34m\u001b[0m\u001b[0m\n\u001b[1;32m     73\u001b[0m             \u001b[0;32mif\u001b[0m \u001b[0martist\u001b[0m\u001b[0;34m.\u001b[0m\u001b[0mget_agg_filter\u001b[0m\u001b[0;34m(\u001b[0m\u001b[0;34m)\u001b[0m \u001b[0;32mis\u001b[0m \u001b[0;32mnot\u001b[0m \u001b[0;32mNone\u001b[0m\u001b[0;34m:\u001b[0m\u001b[0;34m\u001b[0m\u001b[0;34m\u001b[0m\u001b[0m\n",
            "\u001b[0;32m/usr/local/lib/python3.11/dist-packages/matplotlib/figure.py\u001b[0m in \u001b[0;36mdraw\u001b[0;34m(self, renderer)\u001b[0m\n\u001b[1;32m   3255\u001b[0m \u001b[0;34m\u001b[0m\u001b[0m\n\u001b[1;32m   3256\u001b[0m                 \u001b[0mself\u001b[0m\u001b[0;34m.\u001b[0m\u001b[0mpatch\u001b[0m\u001b[0;34m.\u001b[0m\u001b[0mdraw\u001b[0m\u001b[0;34m(\u001b[0m\u001b[0mrenderer\u001b[0m\u001b[0;34m)\u001b[0m\u001b[0;34m\u001b[0m\u001b[0;34m\u001b[0m\u001b[0m\n\u001b[0;32m-> 3257\u001b[0;31m                 mimage._draw_list_compositing_images(\n\u001b[0m\u001b[1;32m   3258\u001b[0m                     renderer, self, artists, self.suppressComposite)\n\u001b[1;32m   3259\u001b[0m \u001b[0;34m\u001b[0m\u001b[0m\n",
            "\u001b[0;32m/usr/local/lib/python3.11/dist-packages/matplotlib/image.py\u001b[0m in \u001b[0;36m_draw_list_compositing_images\u001b[0;34m(renderer, parent, artists, suppress_composite)\u001b[0m\n\u001b[1;32m    132\u001b[0m     \u001b[0;32mif\u001b[0m \u001b[0mnot_composite\u001b[0m \u001b[0;32mor\u001b[0m \u001b[0;32mnot\u001b[0m \u001b[0mhas_images\u001b[0m\u001b[0;34m:\u001b[0m\u001b[0;34m\u001b[0m\u001b[0;34m\u001b[0m\u001b[0m\n\u001b[1;32m    133\u001b[0m         \u001b[0;32mfor\u001b[0m \u001b[0ma\u001b[0m \u001b[0;32min\u001b[0m \u001b[0martists\u001b[0m\u001b[0;34m:\u001b[0m\u001b[0;34m\u001b[0m\u001b[0;34m\u001b[0m\u001b[0m\n\u001b[0;32m--> 134\u001b[0;31m             \u001b[0ma\u001b[0m\u001b[0;34m.\u001b[0m\u001b[0mdraw\u001b[0m\u001b[0;34m(\u001b[0m\u001b[0mrenderer\u001b[0m\u001b[0;34m)\u001b[0m\u001b[0;34m\u001b[0m\u001b[0;34m\u001b[0m\u001b[0m\n\u001b[0m\u001b[1;32m    135\u001b[0m     \u001b[0;32melse\u001b[0m\u001b[0;34m:\u001b[0m\u001b[0;34m\u001b[0m\u001b[0;34m\u001b[0m\u001b[0m\n\u001b[1;32m    136\u001b[0m         \u001b[0;31m# Composite any adjacent images together\u001b[0m\u001b[0;34m\u001b[0m\u001b[0;34m\u001b[0m\u001b[0m\n",
            "\u001b[0;32m/usr/local/lib/python3.11/dist-packages/matplotlib/artist.py\u001b[0m in \u001b[0;36mdraw_wrapper\u001b[0;34m(artist, renderer)\u001b[0m\n\u001b[1;32m     69\u001b[0m                 \u001b[0mrenderer\u001b[0m\u001b[0;34m.\u001b[0m\u001b[0mstart_filter\u001b[0m\u001b[0;34m(\u001b[0m\u001b[0;34m)\u001b[0m\u001b[0;34m\u001b[0m\u001b[0;34m\u001b[0m\u001b[0m\n\u001b[1;32m     70\u001b[0m \u001b[0;34m\u001b[0m\u001b[0m\n\u001b[0;32m---> 71\u001b[0;31m             \u001b[0;32mreturn\u001b[0m \u001b[0mdraw\u001b[0m\u001b[0;34m(\u001b[0m\u001b[0martist\u001b[0m\u001b[0;34m,\u001b[0m \u001b[0mrenderer\u001b[0m\u001b[0;34m)\u001b[0m\u001b[0;34m\u001b[0m\u001b[0;34m\u001b[0m\u001b[0m\n\u001b[0m\u001b[1;32m     72\u001b[0m         \u001b[0;32mfinally\u001b[0m\u001b[0;34m:\u001b[0m\u001b[0;34m\u001b[0m\u001b[0;34m\u001b[0m\u001b[0m\n\u001b[1;32m     73\u001b[0m             \u001b[0;32mif\u001b[0m \u001b[0martist\u001b[0m\u001b[0;34m.\u001b[0m\u001b[0mget_agg_filter\u001b[0m\u001b[0;34m(\u001b[0m\u001b[0;34m)\u001b[0m \u001b[0;32mis\u001b[0m \u001b[0;32mnot\u001b[0m \u001b[0;32mNone\u001b[0m\u001b[0;34m:\u001b[0m\u001b[0;34m\u001b[0m\u001b[0;34m\u001b[0m\u001b[0m\n",
            "\u001b[0;32m/usr/local/lib/python3.11/dist-packages/matplotlib/axes/_base.py\u001b[0m in \u001b[0;36mdraw\u001b[0;34m(self, renderer)\u001b[0m\n\u001b[1;32m   3179\u001b[0m             \u001b[0m_draw_rasterized\u001b[0m\u001b[0;34m(\u001b[0m\u001b[0mself\u001b[0m\u001b[0;34m.\u001b[0m\u001b[0mget_figure\u001b[0m\u001b[0;34m(\u001b[0m\u001b[0mroot\u001b[0m\u001b[0;34m=\u001b[0m\u001b[0;32mTrue\u001b[0m\u001b[0;34m)\u001b[0m\u001b[0;34m,\u001b[0m \u001b[0martists_rasterized\u001b[0m\u001b[0;34m,\u001b[0m \u001b[0mrenderer\u001b[0m\u001b[0;34m)\u001b[0m\u001b[0;34m\u001b[0m\u001b[0;34m\u001b[0m\u001b[0m\n\u001b[1;32m   3180\u001b[0m \u001b[0;34m\u001b[0m\u001b[0m\n\u001b[0;32m-> 3181\u001b[0;31m         mimage._draw_list_compositing_images(\n\u001b[0m\u001b[1;32m   3182\u001b[0m             renderer, self, artists, self.get_figure(root=True).suppressComposite)\n\u001b[1;32m   3183\u001b[0m \u001b[0;34m\u001b[0m\u001b[0m\n",
            "\u001b[0;32m/usr/local/lib/python3.11/dist-packages/matplotlib/image.py\u001b[0m in \u001b[0;36m_draw_list_compositing_images\u001b[0;34m(renderer, parent, artists, suppress_composite)\u001b[0m\n\u001b[1;32m    132\u001b[0m     \u001b[0;32mif\u001b[0m \u001b[0mnot_composite\u001b[0m \u001b[0;32mor\u001b[0m \u001b[0;32mnot\u001b[0m \u001b[0mhas_images\u001b[0m\u001b[0;34m:\u001b[0m\u001b[0;34m\u001b[0m\u001b[0;34m\u001b[0m\u001b[0m\n\u001b[1;32m    133\u001b[0m         \u001b[0;32mfor\u001b[0m \u001b[0ma\u001b[0m \u001b[0;32min\u001b[0m \u001b[0martists\u001b[0m\u001b[0;34m:\u001b[0m\u001b[0;34m\u001b[0m\u001b[0;34m\u001b[0m\u001b[0m\n\u001b[0;32m--> 134\u001b[0;31m             \u001b[0ma\u001b[0m\u001b[0;34m.\u001b[0m\u001b[0mdraw\u001b[0m\u001b[0;34m(\u001b[0m\u001b[0mrenderer\u001b[0m\u001b[0;34m)\u001b[0m\u001b[0;34m\u001b[0m\u001b[0;34m\u001b[0m\u001b[0m\n\u001b[0m\u001b[1;32m    135\u001b[0m     \u001b[0;32melse\u001b[0m\u001b[0;34m:\u001b[0m\u001b[0;34m\u001b[0m\u001b[0;34m\u001b[0m\u001b[0m\n\u001b[1;32m    136\u001b[0m         \u001b[0;31m# Composite any adjacent images together\u001b[0m\u001b[0;34m\u001b[0m\u001b[0;34m\u001b[0m\u001b[0m\n",
            "\u001b[0;32m/usr/local/lib/python3.11/dist-packages/matplotlib/artist.py\u001b[0m in \u001b[0;36mdraw_wrapper\u001b[0;34m(artist, renderer)\u001b[0m\n\u001b[1;32m     69\u001b[0m                 \u001b[0mrenderer\u001b[0m\u001b[0;34m.\u001b[0m\u001b[0mstart_filter\u001b[0m\u001b[0;34m(\u001b[0m\u001b[0;34m)\u001b[0m\u001b[0;34m\u001b[0m\u001b[0;34m\u001b[0m\u001b[0m\n\u001b[1;32m     70\u001b[0m \u001b[0;34m\u001b[0m\u001b[0m\n\u001b[0;32m---> 71\u001b[0;31m             \u001b[0;32mreturn\u001b[0m \u001b[0mdraw\u001b[0m\u001b[0;34m(\u001b[0m\u001b[0martist\u001b[0m\u001b[0;34m,\u001b[0m \u001b[0mrenderer\u001b[0m\u001b[0;34m)\u001b[0m\u001b[0;34m\u001b[0m\u001b[0;34m\u001b[0m\u001b[0m\n\u001b[0m\u001b[1;32m     72\u001b[0m         \u001b[0;32mfinally\u001b[0m\u001b[0;34m:\u001b[0m\u001b[0;34m\u001b[0m\u001b[0;34m\u001b[0m\u001b[0m\n\u001b[1;32m     73\u001b[0m             \u001b[0;32mif\u001b[0m \u001b[0martist\u001b[0m\u001b[0;34m.\u001b[0m\u001b[0mget_agg_filter\u001b[0m\u001b[0;34m(\u001b[0m\u001b[0;34m)\u001b[0m \u001b[0;32mis\u001b[0m \u001b[0;32mnot\u001b[0m \u001b[0;32mNone\u001b[0m\u001b[0;34m:\u001b[0m\u001b[0;34m\u001b[0m\u001b[0;34m\u001b[0m\u001b[0m\n",
            "\u001b[0;32m/usr/local/lib/python3.11/dist-packages/matplotlib/image.py\u001b[0m in \u001b[0;36mdraw\u001b[0;34m(self, renderer)\u001b[0m\n\u001b[1;32m    597\u001b[0m                 \u001b[0mrenderer\u001b[0m\u001b[0;34m.\u001b[0m\u001b[0mdraw_image\u001b[0m\u001b[0;34m(\u001b[0m\u001b[0mgc\u001b[0m\u001b[0;34m,\u001b[0m \u001b[0ml\u001b[0m\u001b[0;34m,\u001b[0m \u001b[0mb\u001b[0m\u001b[0;34m,\u001b[0m \u001b[0mim\u001b[0m\u001b[0;34m,\u001b[0m \u001b[0mtrans\u001b[0m\u001b[0;34m)\u001b[0m\u001b[0;34m\u001b[0m\u001b[0;34m\u001b[0m\u001b[0m\n\u001b[1;32m    598\u001b[0m         \u001b[0;32melse\u001b[0m\u001b[0;34m:\u001b[0m\u001b[0;34m\u001b[0m\u001b[0;34m\u001b[0m\u001b[0m\n\u001b[0;32m--> 599\u001b[0;31m             im, l, b, trans = self.make_image(\n\u001b[0m\u001b[1;32m    600\u001b[0m                 renderer, renderer.get_image_magnification())\n\u001b[1;32m    601\u001b[0m             \u001b[0;32mif\u001b[0m \u001b[0mim\u001b[0m \u001b[0;32mis\u001b[0m \u001b[0;32mnot\u001b[0m \u001b[0;32mNone\u001b[0m\u001b[0;34m:\u001b[0m\u001b[0;34m\u001b[0m\u001b[0;34m\u001b[0m\u001b[0m\n",
            "\u001b[0;32m/usr/local/lib/python3.11/dist-packages/matplotlib/image.py\u001b[0m in \u001b[0;36mmake_image\u001b[0;34m(self, renderer, magnification, unsampled)\u001b[0m\n\u001b[1;32m    900\u001b[0m         clip = ((self.get_clip_box() or self.axes.bbox) if self.get_clip_on()\n\u001b[1;32m    901\u001b[0m                 else self.get_figure(root=True).bbox)\n\u001b[0;32m--> 902\u001b[0;31m         return self._make_image(self._A, bbox, transformed_bbox, clip,\n\u001b[0m\u001b[1;32m    903\u001b[0m                                 magnification, unsampled=unsampled)\n\u001b[1;32m    904\u001b[0m \u001b[0;34m\u001b[0m\u001b[0m\n",
            "\u001b[0;32m/usr/local/lib/python3.11/dist-packages/matplotlib/image.py\u001b[0m in \u001b[0;36m_make_image\u001b[0;34m(self, A, in_bbox, out_bbox, clip_bbox, magnification, unsampled, round_to_pixel_border)\u001b[0m\n\u001b[1;32m    511\u001b[0m                     output_alpha = _resample(  # resample alpha channel\n\u001b[1;32m    512\u001b[0m                         self, A[..., 3], out_shape, t, alpha=alpha)\n\u001b[0;32m--> 513\u001b[0;31m                 output = _resample(  # resample rgb channels\n\u001b[0m\u001b[1;32m    514\u001b[0m                     self, _rgb_to_rgba(A[..., :3]), out_shape, t, alpha=alpha)\n\u001b[1;32m    515\u001b[0m                 \u001b[0moutput\u001b[0m\u001b[0;34m[\u001b[0m\u001b[0;34m...\u001b[0m\u001b[0;34m,\u001b[0m \u001b[0;36m3\u001b[0m\u001b[0;34m]\u001b[0m \u001b[0;34m=\u001b[0m \u001b[0moutput_alpha\u001b[0m  \u001b[0;31m# recombine rgb and alpha\u001b[0m\u001b[0;34m\u001b[0m\u001b[0;34m\u001b[0m\u001b[0m\n",
            "\u001b[0;32m/usr/local/lib/python3.11/dist-packages/matplotlib/image.py\u001b[0m in \u001b[0;36m_resample\u001b[0;34m(image_obj, data, out_shape, transform, resample, alpha)\u001b[0m\n\u001b[1;32m    208\u001b[0m     \u001b[0;32mif\u001b[0m \u001b[0mresample\u001b[0m \u001b[0;32mis\u001b[0m \u001b[0;32mNone\u001b[0m\u001b[0;34m:\u001b[0m\u001b[0;34m\u001b[0m\u001b[0;34m\u001b[0m\u001b[0m\n\u001b[1;32m    209\u001b[0m         \u001b[0mresample\u001b[0m \u001b[0;34m=\u001b[0m \u001b[0mimage_obj\u001b[0m\u001b[0;34m.\u001b[0m\u001b[0mget_resample\u001b[0m\u001b[0;34m(\u001b[0m\u001b[0;34m)\u001b[0m\u001b[0;34m\u001b[0m\u001b[0;34m\u001b[0m\u001b[0m\n\u001b[0;32m--> 210\u001b[0;31m     _image.resample(data, out, transform,\n\u001b[0m\u001b[1;32m    211\u001b[0m                     \u001b[0m_interpd_\u001b[0m\u001b[0;34m[\u001b[0m\u001b[0minterpolation\u001b[0m\u001b[0;34m]\u001b[0m\u001b[0;34m,\u001b[0m\u001b[0;34m\u001b[0m\u001b[0;34m\u001b[0m\u001b[0m\n\u001b[1;32m    212\u001b[0m                     \u001b[0mresample\u001b[0m\u001b[0;34m,\u001b[0m\u001b[0;34m\u001b[0m\u001b[0;34m\u001b[0m\u001b[0m\n",
            "\u001b[0;31mKeyboardInterrupt\u001b[0m: "
          ]
        },
        {
          "data": {
            "image/png": "[encoded data removed]",
            "text/plain": [
              "<Figure size 640x480 with 1 Axes>"
            ]
          },
          "metadata": {},
          "output_type": "display_data"
        }
      ],
      "source": [
        "for frame in frames:\n",
        "    plt.imshow(frame)\n",
        "    plt.axis('off')\n",
        "    display(plt.gcf())\n",
        "    clear_output(wait=True)\n",
        "\n",
        "\n",
        "print(\"animation ran for 5 seconds\")\n"
      ]
    },
    {
      "cell_type": "code",
      "execution_count": 11,
      "metadata": {
        "colab": {
          "base_uri": "https://localhost:8080/",
          "height": 318
        },
        "id": "E2LGPHjDgrX1",
        "outputId": "5a74601b-ba35-4fb7-d479-29dbeae44ef7"
      },
      "outputs": [
        {
          "name": "stdout",
          "output_type": "stream",
          "text": [
            "Moviepy - Building video pong_random.mp4.\n",
            "Moviepy - Writing video pong_random.mp4\n",
            "\n"
          ]
        },
        {
          "name": "stderr",
          "output_type": "stream",
          "text": [
            "                                                               "
          ]
        },
        {
          "name": "stdout",
          "output_type": "stream",
          "text": [
            "Moviepy - Done !\n",
            "Moviepy - video ready pong_random.mp4\n"
          ]
        },
        {
          "name": "stderr",
          "output_type": "stream",
          "text": [
            "\r"
          ]
        },
        {
          "data": {
            "text/html": [
              "<video controls  >\n",
              " <source src=\"data:video/mp4;base64,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\" type=\"video/mp4\">\n",
              " Your browser does not support the video tag.\n",
              " </video>"
            ],
            "text/plain": [
              "<IPython.core.display.Video object>"
            ]
          },
          "execution_count": 11,
          "metadata": {},
          "output_type": "execute_result"
        }
      ],
      "source": [
        "import moviepy.editor as mpy\n",
        "from IPython.display import Video\n",
        "\n",
        "clip = mpy.ImageSequenceClip(frames, fps=30)\n",
        "clip.write_videofile(\"pong_random.mp4\")\n",
        "\n",
        "# display the video\n",
        "Video(\"pong_random.mp4\", embed=True)\n"
      ]
    }
  ],
  "metadata": {
    "colab": {
      "provenance": [],
      "toc_visible": true
    },
    "kernelspec": {
      "display_name": "Python 3",
      "name": "python3"
    },
    "language_info": {
      "name": "python",
      "version": "3.13.1"
    }
  },
  "nbformat": 4,
  "nbformat_minor": 0
}
